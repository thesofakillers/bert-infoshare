{
 "cells": [
  {
   "cell_type": "code",
   "execution_count": null,
   "metadata": {
    "pycharm": {
     "name": "#%%\n"
    }
   },
   "outputs": [],
   "source": [
    "%load_ext autoreload\n",
    "%autoreload 2"
   ]
  },
  {
   "cell_type": "markdown",
   "metadata": {
    "pycharm": {
     "name": "#%% md\n"
    }
   },
   "source": [
    "## Cross Neutralizing"
   ]
  },
  {
   "cell_type": "code",
   "execution_count": null,
   "metadata": {
    "pycharm": {
     "name": "#%%\n"
    }
   },
   "outputs": [],
   "source": [
    "import utils"
   ]
  },
  {
   "cell_type": "code",
   "execution_count": null,
   "metadata": {
    "pycharm": {
     "name": "#%%\n"
    }
   },
   "outputs": [],
   "source": [
    "# NOTE: Change these accordingly\n",
    "TASKS = [\"DEP\", \"POS\"]\n",
    "TREE_BANKS = [\"en_gum\", \"it_vit\", \"el_gdt\"]\n",
    "MODELS = [\"xlm-roberta-base\"]\n",
    "# Set the values to None if you want to keep all the tags\n",
    "KEEP_TAGS = {\n",
    "    \"POS\": None,\n",
    "    # \"POS\": [\"NOUN\", \"ADJ\", \"VERB\", \"PRON\", \"DET\", \"NUM\", \"ADV\", \"AUX\"],\n",
    "    \"DEP\": None,\n",
    "    # \"DEP\": [\"PUNCT\", \"NSUBJ\", \"OBJ\", \"OBL\", \"ADVCL\", \"CASE\", \"DET\", \"AMOD\"],\n",
    "}"
   ]
  },
  {
   "cell_type": "code",
   "execution_count": null,
   "metadata": {
    "pycharm": {
     "name": "#%%\n"
    }
   },
   "outputs": [],
   "source": [
    "import matplotlib.pyplot as plt\n",
    "import seaborn as sns\n",
    "\n",
    "sns.set_style(\"white\")\n",
    "sns.set_context(\"paper\", font_scale=0.8)"
   ]
  },
  {
   "cell_type": "code",
   "execution_count": null,
   "metadata": {
    "pycharm": {
     "name": "#%%\n"
    }
   },
   "outputs": [],
   "source": [
    "TEXTWIDTH = 6.30045\n",
    "COLWIDTH = 3.03209"
   ]
  },
  {
   "cell_type": "code",
   "execution_count": null,
   "metadata": {
    "pycharm": {
     "name": "#%%\n"
    }
   },
   "outputs": [],
   "source": [
    "def plot_heatmap(df, save_name=None, vmin=None, vmax=None, center=0.0, cbar=True, annot_kws={\"fontsize\": 7}):\n",
    "    bold = {\"weight\": \"bold\"}\n",
    "\n",
    "    plt.figure(figsize=(TEXTWIDTH, TEXTWIDTH), dpi=300)\n",
    "    cmap = sns.diverging_palette(20, 145, as_cmap=True)\n",
    "    ax = sns.heatmap(\n",
    "        df * 100,\n",
    "        annot=True,\n",
    "        fmt=\".0f\",\n",
    "        cmap=cmap,\n",
    "        cbar=cbar,\n",
    "        vmin=vmin,\n",
    "        vmax=vmax,\n",
    "        center=center,\n",
    "        square=True,\n",
    "        annot_kws=annot_kws,\n",
    "        # annot_kws={\"size\": 80 / np.sqrt(len(df))},\n",
    "    )\n",
    "    ax.set_xlabel(ax.get_xlabel(), fontdict=bold)\n",
    "    ax.set_ylabel(ax.get_ylabel(), fontdict=bold)\n",
    "\n",
    "    if save_name:\n",
    "        plt.savefig(save_name, bbox_inches='tight')"
   ]
  },
  {
   "cell_type": "code",
   "execution_count": null,
   "metadata": {
    "pycharm": {
     "name": "#%%\n"
    }
   },
   "outputs": [],
   "source": [
    "for TASK in TASKS:\n",
    "    for MODEL in MODELS:\n",
    "        for TREE_BANK in TREE_BANKS:\n",
    "            print(TASK, MODEL, TREE_BANK)\n",
    "            experiments_df = utils.get_experiments_df(TASK, TREE_BANK, MODEL)\n",
    "            plot_heatmap(\n",
    "                experiments_df,\n",
    "                save_name=f\"experiments/{TASK}_{MODEL}_{TREE_BANK}.eps\",\n",
    "                cbar=False,\n",
    "            )\n",
    "            MODE = utils.select_best_mode(experiments_df)\n",
    "            eval_path = f\"lightning_logs/{MODEL}/{TREE_BANK}/{TASK}/{MODE}/evaluation\"\n",
    "            acc_drop = utils.get_acc_drop(eval_path, KEEP_TAGS[TASK])\n",
    "            plot_heatmap(\n",
    "                acc_drop,\n",
    "                save_name=f\"experiments/{TASK}_{MODEL}_{TREE_BANK}_acc_drop_{MODE}\"\n",
    "                f\"{'_sampled' if KEEP_TAGS[TASK] is not None else ''}\"\n",
    "                \".eps\",\n",
    "                vmin=-100,\n",
    "                vmax=100,\n",
    "                cbar=False,\n",
    "            )"
   ]
  }
 ],
 "metadata": {
  "kernelspec": {
   "display_name": "infoshare",
   "language": "python",
   "name": "infoshare"
  },
  "language_info": {
   "codemirror_mode": {
    "name": "ipython",
    "version": 3
   },
   "file_extension": ".py",
   "mimetype": "text/x-python",
   "name": "python",
   "nbconvert_exporter": "python",
   "pygments_lexer": "ipython3",
   "version": "3.8.13"
  }
 },
 "nbformat": 4,
 "nbformat_minor": 4
}