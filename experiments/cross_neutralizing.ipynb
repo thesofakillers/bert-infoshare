{
 "cells": [
  {
   "cell_type": "markdown",
   "metadata": {
    "pycharm": {
     "name": "#%% md\n"
    }
   },
   "source": [
    "## Cross Neutralizing"
   ]
  },
  {
   "cell_type": "code",
   "execution_count": null,
   "metadata": {
    "pycharm": {
     "name": "#%%\n"
    }
   },
   "outputs": [],
   "source": [
    "# NOTE: Change these accordingly\n",
    "TASKS = [\"POS\"]\n",
    "TREE_BANKS = [\"en_gum\", \"el_gdt\", \"it_vit\"]\n",
    "MODELS = [\"xlm-roberta-base\"]"
   ]
  },
  {
   "cell_type": "code",
   "execution_count": null,
   "metadata": {
    "pycharm": {
     "name": "#%%\n"
    }
   },
   "outputs": [],
   "source": [
    "from tensorboard.backend.event_processing.event_accumulator import EventAccumulator\n",
    "\n",
    "import glob\n",
    "import matplotlib.pyplot as plt\n",
    "import numpy as np\n",
    "import pandas as pd\n",
    "import re\n",
    "import seaborn as sns\n",
    "\n",
    "sns.set_style(\"white\")\n",
    "sns.set_context(\"paper\", font_scale=2)"
   ]
  },
  {
   "cell_type": "code",
   "execution_count": null,
   "metadata": {
    "pycharm": {
     "name": "#%%\n"
    }
   },
   "outputs": [],
   "source": [
    "TAG_REGEX = r\".*\\/evaluation_(\\w+)\\/.*\"\n",
    "EXPERIMENT_REGEX = r\".*\\/(.+=.+)\\/.*\"\n",
    "\n",
    "\n",
    "def get_base_series(path):\n",
    "    if \"*\" in path:\n",
    "        path = glob.glob(path)[0]\n",
    "\n",
    "    ea = EventAccumulator(path)\n",
    "    ea.Reload()\n",
    "\n",
    "    scalars = {}\n",
    "    for metric in ea.Tags()[\"scalars\"]:\n",
    "        if \"test\" not in metric:\n",
    "            continue\n",
    "\n",
    "        scalar = ea.Scalars(metric)[0].value\n",
    "\n",
    "        parts = metric.split(\"_\")\n",
    "        if len(parts) == 2:\n",
    "            tag = \"average\"\n",
    "        else:\n",
    "            tag = parts[-1].upper()\n",
    "\n",
    "        scalars[tag] = scalar\n",
    "\n",
    "    return pd.Series(scalars)\n",
    "\n",
    "\n",
    "def get_xn_df(glob_path):\n",
    "    neutralizers = {}\n",
    "    for path in glob.glob(glob_path):\n",
    "        res = re.search(TAG_REGEX, path)\n",
    "        base_tag = res.group(1).upper()\n",
    "\n",
    "        ea = EventAccumulator(path)\n",
    "        ea.Reload()\n",
    "\n",
    "        scalars = {}\n",
    "        for metric in ea.Tags()[\"scalars\"]:\n",
    "            if \"test\" not in metric:\n",
    "                continue\n",
    "\n",
    "            scalar = ea.Scalars(metric)[0].value\n",
    "\n",
    "            if \"/\" not in metric:\n",
    "                tag = \"average\"\n",
    "            else:\n",
    "                tag = metric.split(\"_\")[-1].upper()\n",
    "\n",
    "            scalars[tag] = scalar\n",
    "\n",
    "        neutralizers[base_tag] = scalars\n",
    "\n",
    "    df = pd.DataFrame(neutralizers)\n",
    "    df.index.name = \"Target\"\n",
    "    df = df.T\n",
    "    df.index.name = \"Neutralizer\"\n",
    "    return df\n",
    "\n",
    "\n",
    "def get_acc_drop(eval_path):\n",
    "    base_series = get_base_series(f\"{eval_path}/events*\")\n",
    "    xn_df = get_xn_df(f\"{eval_path}_*/events*\")\n",
    "\n",
    "    nulls = base_series.isnull()\n",
    "    base_series = base_series[~nulls]\n",
    "    xn_df = xn_df.T[~nulls].T\n",
    "\n",
    "    acc_drop = (xn_df - base_series) / base_series\n",
    "    acc_drop.sort_index(axis=0, inplace=True)\n",
    "    acc_drop.sort_index(axis=1, inplace=True)\n",
    "    return acc_drop\n",
    "\n",
    "\n",
    "def get_experiments_df(task, treebank, model):\n",
    "    experiments = {}\n",
    "    for path in glob.glob(f\"../lightning_logs/{model}/{treebank}/{task}/*/evaluation\"):\n",
    "        res = re.search(EXPERIMENT_REGEX, path)\n",
    "        experiment = res.group(1)\n",
    "        acc_drop = get_acc_drop(path)\n",
    "\n",
    "        self_neutr = {}\n",
    "        for tag in acc_drop.columns.values[:-1]:\n",
    "            tag = tag.upper()\n",
    "            self_neutr[tag] = acc_drop[tag][tag]\n",
    "\n",
    "        self_neutr[\"average\"] = np.nanmean(list(self_neutr.values()))\n",
    "        experiments[experiment] = self_neutr\n",
    "\n",
    "    df = pd.DataFrame(experiments)\n",
    "    df.sort_values(by=\"average\", axis=1, inplace=True)\n",
    "\n",
    "    nulls = df.isnull().all(1)\n",
    "    df = df[~nulls]\n",
    "\n",
    "    df.index.name = \"Neutralizer\"\n",
    "    df = df.T\n",
    "    df.index.name = \"Experiment\"\n",
    "    return df\n",
    "\n",
    "\n",
    "def plot_heatmap(df, save_name=None, vmin=None, vmax=None):\n",
    "    bold = {\"weight\": \"bold\"}\n",
    "    \n",
    "    plt.figure(figsize=(20, 20), dpi=300)\n",
    "    ax = sns.heatmap(df, annot=True, fmt=\".0%\", vmin=vmin, vmax=vmax, square=True)\n",
    "    ax.set_xlabel(ax.get_xlabel(), fontdict=bold)\n",
    "    ax.set_ylabel(ax.get_ylabel(), fontdict=bold)\n",
    "\n",
    "    if save_name:\n",
    "        plt.savefig(save_name)"
   ]
  },
  {
   "cell_type": "code",
   "execution_count": null,
   "metadata": {
    "pycharm": {
     "name": "#%%\n"
    }
   },
   "outputs": [],
   "source": [
    "for TASK in TASKS:\n",
    "    for MODEL in MODELS:\n",
    "        for TREE_BANK in TREE_BANKS:\n",
    "            print(TASK, MODEL, TREE_BANK)\n",
    "            experiments_df = get_experiments_df(TASK, TREE_BANK, MODEL)\n",
    "            plot_heatmap(\n",
    "                experiments_df,\n",
    "                save_name=f\"{TASK}_{MODEL}_{TREE_BANK}.pdf\",\n",
    "                vmin=-1,\n",
    "                vmax=-0.45,\n",
    "            )\n",
    "            MODE = experiments_df.index[0]\n",
    "            eval_path = (\n",
    "                f\"../lightning_logs/{MODEL}/{TREE_BANK}/{TASK}/{MODE}/evaluation\"\n",
    "            )\n",
    "            acc_drop = get_acc_drop(eval_path)\n",
    "            plot_heatmap(\n",
    "                acc_drop,\n",
    "                save_name=f\"{TASK}_{MODEL}_{TREE_BANK}_acc_drop_{MODE}.pdf\",\n",
    "                vmin=-1,\n",
    "                vmax=0.0,\n",
    "            )"
   ]
  }
 ],
 "metadata": {
  "kernelspec": {
   "display_name": "infoshare",
   "language": "python",
   "name": "infoshare"
  },
  "language_info": {
   "codemirror_mode": {
    "name": "ipython",
    "version": 3
   },
   "file_extension": ".py",
   "mimetype": "text/x-python",
   "name": "python",
   "nbconvert_exporter": "python",
   "pygments_lexer": "ipython3",
   "version": "3.8.13"
  }
 },
 "nbformat": 4,
 "nbformat_minor": 4
}
