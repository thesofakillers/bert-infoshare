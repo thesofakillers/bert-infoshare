{
 "cells": [
  {
   "cell_type": "markdown",
   "metadata": {
    "pycharm": {
     "name": "#%% md\n"
    }
   },
   "source": [
    "## Inference Demo\n",
    "**Step 1.** Set these variables"
   ]
  },
  {
   "cell_type": "code",
   "execution_count": 1,
   "metadata": {
    "pycharm": {
     "name": "#%%\n"
    }
   },
   "outputs": [],
   "source": [
    "CKPT_PATH = './lightning_logs/roberta-base/version_0/checkpoints/epoch=3-step=264.ckpt'\n",
    "DATA_PATH = './data/en_gum'"
   ]
  },
  {
   "cell_type": "markdown",
   "metadata": {
    "pycharm": {
     "name": "#%% md\n"
    }
   },
   "source": [
    "**Step 2.** Load the imports"
   ]
  },
  {
   "cell_type": "code",
   "execution_count": 2,
   "metadata": {
    "pycharm": {
     "name": "#%%\n"
    }
   },
   "outputs": [],
   "source": [
    "from datasets import load_from_disk\n",
    "from functools import partial\n",
    "from models.pos_classifier import POSClassifier\n",
    "from transformers import AutoTokenizer, logging\n",
    "\n",
    "import torch\n",
    "\n",
    "logging.set_verbosity_error()"
   ]
  },
  {
   "cell_type": "markdown",
   "metadata": {
    "pycharm": {
     "name": "#%% md\n"
    }
   },
   "source": [
    "**Step 3.** Create these objects"
   ]
  },
  {
   "cell_type": "code",
   "execution_count": 3,
   "metadata": {
    "pycharm": {
     "name": "#%%\n"
    }
   },
   "outputs": [],
   "source": [
    "ud = load_from_disk('./data/en_gum')\n",
    "POS_map = ud['train'].info.features['upos'].feature.names\n",
    "\n",
    "model = POSClassifier.load_from_checkpoint(CKPT_PATH)\n",
    "tokenizer = AutoTokenizer.from_pretrained(model.hparams.encoder_name, add_prefix_space=True)\n",
    "tokenize_fn = partial(tokenizer, return_tensors='pt')"
   ]
  },
  {
   "cell_type": "markdown",
   "metadata": {
    "pycharm": {
     "name": "#%% md\n"
    }
   },
   "source": [
    "**Step 4.** Define the inference method"
   ]
  },
  {
   "cell_type": "code",
   "execution_count": 4,
   "metadata": {
    "pycharm": {
     "name": "#%%\n"
    }
   },
   "outputs": [],
   "source": [
    "@torch.no_grad()\n",
    "def infer(sentence: str) -> list:\n",
    "    e = tokenize_fn(sentence)\n",
    "    o = model(e).squeeze(dim=0)\n",
    "\n",
    "    return [POS_map[i] for i in o.argmax(dim=1)]"
   ]
  },
  {
   "cell_type": "markdown",
   "metadata": {
    "pycharm": {
     "name": "#%% md\n"
    }
   },
   "source": [
    "**Step 5.** Perform inference!"
   ]
  },
  {
   "cell_type": "code",
   "execution_count": 5,
   "metadata": {
    "pycharm": {
     "name": "#%%\n"
    }
   },
   "outputs": [
    {
     "data": {
      "text/plain": "['INTJ', 'NOUN', 'PUNCT', 'PRON', 'AUX', 'DET', 'NOUN']"
     },
     "execution_count": 5,
     "metadata": {},
     "output_type": "execute_result"
    }
   ],
   "source": [
    "infer(\"Hello guys, I am a dog\")"
   ]
  },
  {
   "cell_type": "markdown",
   "metadata": {
    "pycharm": {
     "name": "#%% md\n"
    }
   },
   "source": [
    "**Step 6.** Profit?"
   ]
  }
 ],
 "metadata": {
  "kernelspec": {
   "display_name": "Python 3 (ipykernel)",
   "language": "python",
   "name": "python3"
  },
  "language_info": {
   "codemirror_mode": {
    "name": "ipython",
    "version": 3
   },
   "file_extension": ".py",
   "mimetype": "text/x-python",
   "name": "python",
   "nbconvert_exporter": "python",
   "pygments_lexer": "ipython3",
   "version": "3.8.13"
  }
 },
 "nbformat": 4,
 "nbformat_minor": 1
}