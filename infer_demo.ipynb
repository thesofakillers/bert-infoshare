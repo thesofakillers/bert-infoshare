{
 "cells": [
  {
   "cell_type": "markdown",
   "source": [
    "## Inference Demo\n",
    "**Step 1.** Set these variables"
   ],
   "metadata": {
    "collapsed": false,
    "pycharm": {
     "name": "#%% md\n"
    }
   }
  },
  {
   "cell_type": "code",
   "metadata": {
    "pycharm": {
     "name": "#%%\n"
    }
   },
   "source": [
    "CKPT_PATH = './lightning_logs/roberta-base/version_0/checkpoints/epoch=4-step=330.ckpt'\n",
    "DATA_PATH = './data/en_gum'"
   ],
   "execution_count": 1,
   "outputs": []
  },
  {
   "cell_type": "markdown",
   "source": [
    "**Step 2.** Load the imports"
   ],
   "metadata": {
    "collapsed": false,
    "pycharm": {
     "name": "#%% md\n"
    }
   }
  },
  {
   "cell_type": "code",
   "execution_count": 2,
   "outputs": [],
   "source": [
    "from datasets import load_from_disk\n",
    "from functools import partial\n",
    "from model import POSClassifier\n",
    "from torch import LongTensor\n",
    "from transformers import AutoTokenizer, BatchEncoding, logging\n",
    "\n",
    "import torch\n",
    "\n",
    "logging.set_verbosity_error()"
   ],
   "metadata": {
    "collapsed": false,
    "pycharm": {
     "name": "#%%\n"
    }
   }
  },
  {
   "cell_type": "markdown",
   "metadata": {
    "pycharm": {
     "name": "#%% md\n"
    }
   },
   "source": [
    "**Step 3.** Create these objects"
   ]
  },
  {
   "cell_type": "code",
   "execution_count": 3,
   "metadata": {
    "pycharm": {
     "name": "#%%\n"
    }
   },
   "outputs": [],
   "source": [
    "ud = load_from_disk('./data/en_gum')\n",
    "POS_map = ud['train'].info.features['upos'].feature.names\n",
    "\n",
    "model = POSClassifier.load_from_checkpoint(CKPT_PATH)\n",
    "tokenizer = AutoTokenizer.from_pretrained(model.hparams.encoder_name, add_prefix_space=True)\n",
    "tokenize_fn = partial(tokenizer, return_tensors='pt')"
   ]
  },
  {
   "cell_type": "markdown",
   "source": [
    "**Step 4.** Define the inference method"
   ],
   "metadata": {
    "collapsed": false,
    "pycharm": {
     "name": "#%% md\n"
    }
   }
  },
  {
   "cell_type": "code",
   "execution_count": 4,
   "outputs": [],
   "source": [
    "@torch.no_grad()\n",
    "def infer(sentence: str) -> list:\n",
    "    def map_wordpieces(encoding: BatchEncoding) -> LongTensor:\n",
    "        n_tokens = sum(t != tokenizer.pad_token for t in encoding.tokens()) - 2  # -2 for [CLS] and [SEP]\n",
    "        wp_map = [-1] + [encoding.token_to_word(token_idx) for token_idx in range(1, n_tokens + 1)] + [-1]\n",
    "        return LongTensor(wp_map).unsqueeze(dim=0)\n",
    "\n",
    "    e = tokenize_fn(sentence)\n",
    "    w = map_wordpieces(e)\n",
    "    o = model(e, w)\n",
    "\n",
    "    return [POS_map[i] for i in o.argmax(dim=1)]"
   ],
   "metadata": {
    "collapsed": false,
    "pycharm": {
     "name": "#%%\n"
    }
   }
  },
  {
   "cell_type": "markdown",
   "source": [
    "**Step 5.** Perform inference!"
   ],
   "metadata": {
    "collapsed": false,
    "pycharm": {
     "name": "#%% md\n"
    }
   }
  },
  {
   "cell_type": "code",
   "execution_count": 5,
   "metadata": {
    "pycharm": {
     "name": "#%%\n"
    }
   },
   "outputs": [
    {
     "data": {
      "text/plain": "['INTJ', 'NOUN', 'PUNCT', 'PRON', 'AUX', 'DET', 'NOUN']"
     },
     "execution_count": 5,
     "metadata": {},
     "output_type": "execute_result"
    }
   ],
   "source": [
    "infer(\"Hello guys, I am a dog\")"
   ]
  },
  {
   "cell_type": "markdown",
   "source": [
    "**Step 6.** Profit?"
   ],
   "metadata": {
    "collapsed": false,
    "pycharm": {
     "name": "#%% md\n"
    }
   }
  }
 ],
 "metadata": {
  "kernelspec": {
   "display_name": "Python 3 (ipykernel)",
   "language": "python",
   "name": "python3"
  },
  "language_info": {
   "codemirror_mode": {
    "name": "ipython",
    "version": 3
   },
   "file_extension": ".py",
   "mimetype": "text/x-python",
   "name": "python",
   "nbconvert_exporter": "python",
   "pygments_lexer": "ipython3",
   "version": "3.8.13"
  }
 },
 "nbformat": 4,
 "nbformat_minor": 1
}